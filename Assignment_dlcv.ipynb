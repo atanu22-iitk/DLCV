{
  "nbformat": 4,
  "nbformat_minor": 0,
  "metadata": {
    "colab": {
      "provenance": [],
      "mount_file_id": "1VWdH5mGDCwoh8L-a3pWtYQ7S1PhpHdJH",
      "authorship_tag": "ABX9TyNB5b3rK6PDn+WyzxnFSBq+",
      "include_colab_link": true
    },
    "kernelspec": {
      "name": "python3",
      "display_name": "Python 3"
    },
    "language_info": {
      "name": "python"
    }
  },
  "cells": [
    {
      "cell_type": "markdown",
      "metadata": {
        "id": "view-in-github",
        "colab_type": "text"
      },
      "source": [
        "<a href=\"https://colab.research.google.com/github/atanu22-iitk/DLCV/blob/main/Assignment_dlcv.ipynb\" target=\"_parent\"><img src=\"https://colab.research.google.com/assets/colab-badge.svg\" alt=\"Open In Colab\"/></a>"
      ]
    },
    {
      "cell_type": "code",
      "execution_count": 160,
      "metadata": {
        "id": "HFhFgGNI5MKS",
        "colab": {
          "base_uri": "https://localhost:8080/",
          "height": 1000
        },
        "outputId": "7c6fa0c8-b974-44a6-abae-f06c42fcf844"
      },
      "outputs": [
        {
          "output_type": "stream",
          "name": "stdout",
          "text": [
            "Showing Data:\n",
            "File contain 0  is: b'batch_label'\n",
            "File contain 1  is: b'labels'\n",
            "File contain 2  is: b'data'\n",
            "File contain 3  is: b'filenames'\n",
            "Red: [[154 126 105 ...  91  87  79]\n",
            " [140 145 125 ...  96  77  71]\n",
            " [140 139 115 ...  79  68  67]\n",
            " ...\n",
            " [175 156 154 ...  42  61  93]\n",
            " [165 156 159 ... 103 123 131]\n",
            " [163 158 163 ... 143 143 143]]\n",
            "Green: [[177 137 104 ...  95  90  81]\n",
            " [160 153 125 ...  99  80  73]\n",
            " [155 146 115 ...  82  70  69]\n",
            " ...\n",
            " [167 154 160 ...  34  53  83]\n",
            " [154 152 161 ...  93 114 121]\n",
            " [148 148 156 ... 133 134 133]]\n",
            "Blue: [[187 136  95 ...  71  71  70]\n",
            " [169 154 118 ...  78  62  61]\n",
            " [164 149 112 ...  64  55  55]\n",
            " ...\n",
            " [166 160 170 ...  36  57  91]\n",
            " [128 130 142 ...  96 120 131]\n",
            " [120 122 133 ... 139 142 144]]\n",
            "<class 'numpy.ndarray'>\n",
            "(32, 32)\n",
            "(32, 32)\n",
            "(32, 32)\n"
          ]
        },
        {
          "output_type": "display_data",
          "data": {
            "text/plain": [
              "<Figure size 432x288 with 1 Axes>"
            ],
            "image/png": "[encoded data removed]"
          },
          "metadata": {
            "needs_background": "light"
          }
        },
        {
          "output_type": "display_data",
          "data": {
            "text/plain": [
              "<Figure size 432x288 with 1 Axes>"
            ],
            "image/png": "[encoded data removed]"
          },
          "metadata": {
            "needs_background": "light"
          }
        },
        {
          "output_type": "display_data",
          "data": {
            "text/plain": [
              "<Figure size 432x288 with 1 Axes>"
            ],
            "image/png": "[encoded data removed]"
          },
          "metadata": {
            "needs_background": "light"
          }
        },
        {
          "output_type": "stream",
          "name": "stdout",
          "text": [
            "(3, 32, 32)\n",
            "[[[154 126 105 ...  91  87  79]\n",
            "  [140 145 125 ...  96  77  71]\n",
            "  [140 139 115 ...  79  68  67]\n",
            "  ...\n",
            "  [175 156 154 ...  42  61  93]\n",
            "  [165 156 159 ... 103 123 131]\n",
            "  [163 158 163 ... 143 143 143]]\n",
            "\n",
            " [[177 137 104 ...  95  90  81]\n",
            "  [160 153 125 ...  99  80  73]\n",
            "  [155 146 115 ...  82  70  69]\n",
            "  ...\n",
            "  [167 154 160 ...  34  53  83]\n",
            "  [154 152 161 ...  93 114 121]\n",
            "  [148 148 156 ... 133 134 133]]\n",
            "\n",
            " [[187 136  95 ...  71  71  70]\n",
            "  [169 154 118 ...  78  62  61]\n",
            "  [164 149 112 ...  64  55  55]\n",
            "  ...\n",
            "  [166 160 170 ...  36  57  91]\n",
            "  [128 130 142 ...  96 120 131]\n",
            "  [120 122 133 ... 139 142 144]]]\n",
            "Rmin: 5\n",
            "Rmax: 254\n",
            "Gmin: 6\n",
            "Gmax: 253\n",
            "Bmin: 7\n",
            "Bmax: 254\n"
          ]
        }
      ],
      "source": [
        "\n",
        "import numpy as np\n",
        "import matplotlib.pyplot as plt\n",
        "\n",
        "\n",
        "\n",
        "def read_data(file):\n",
        "  import pickle\n",
        "  data=open(file, 'rb')\n",
        "  dict = pickle.load(data, encoding='bytes')\n",
        "  return dict\n",
        "\n",
        "def image_array(image_data):\n",
        "    global R_ch,G_ch,B_ch\n",
        "    R_ch=np.array([image_data[b'data'][1,:32]])\n",
        "    G_ch=np.array([image_data[b'data'][1,1024:1056]])\n",
        "    B_ch=np.array([image_data[b'data'][1,2048:2080]])\n",
        "\n",
        "    for i in range(32,1024,32):\n",
        "        data_R=np.array(image_data[b'data'][1,i:i+32])\n",
        "        R_ch=np.append(R_ch, [data_R], axis=0)\n",
        "        i+=32\n",
        "\n",
        "    for i in range(1056,2048,32):\n",
        "        data_G=np.array(image_data[b'data'][1,i:i+32])\n",
        "        G_ch=np.append(G_ch, [data_G], axis=0)\n",
        "        i+=32\n",
        "\n",
        "    for i in range(2080,3072,32):\n",
        "        data_B=np.array(image_data[b'data'][1,i:i+32])\n",
        "        B_ch=np.append(B_ch, [data_B], axis=0)\n",
        "        i+=32\n",
        "\n",
        "    print('Red:',R_ch)\n",
        "    print('Green:',G_ch)\n",
        "    print('Blue:',B_ch)\n",
        "    print(type(R_ch))\n",
        "    print(R_ch.shape)\n",
        "    print(G_ch.shape)\n",
        "    print(B_ch.shape)\n",
        "    \n",
        "    image_3d=np.array([R_ch,G_ch,B_ch], dtype=np.uint8)\n",
        "    plt.imshow(R_ch)\n",
        "    plt.show()\n",
        "    plt.imshow(G_ch)\n",
        "    plt.show()\n",
        "    plt.imshow(B_ch)\n",
        "    plt.show()\n",
        "\n",
        "    return image_3d\n",
        "\n",
        "def min_max(arr):\n",
        "  min=np.min(arr)\n",
        "  max=np.max(arr)\n",
        "  return min, max\n",
        "\n",
        "def main():\n",
        "    file='/content/drive/MyDrive/Colab Notebooks/cifar-10-batches-py/data_batch_1'\n",
        "    image_data=read_data(file)\n",
        "    print('Showing Data:')\n",
        "    cnt=0\n",
        "    for item in image_data:\n",
        "      print('File contain',cnt,' is:', item)\n",
        "      cnt +=1\n",
        "    image = np.array(image_array(image_data))\n",
        "    \n",
        "    print(image.shape)\n",
        "    print(image)\n",
        "\n",
        "    R_min_max=min_max(R_ch)\n",
        "    G_min_max=min_max(G_ch)\n",
        "    B_min_max=min_max(B_ch)\n",
        "    print('Rmin:',R_min_max[0])\n",
        "    print('Rmax:',R_min_max[1])\n",
        "    print('Gmin:',G_min_max[0])\n",
        "    print('Gmax:',G_min_max[1])\n",
        "    print('Bmin:',B_min_max[0])\n",
        "    print('Bmax:',B_min_max[1])\n",
        "# driver code\n",
        "if __name__ == \"__main__\":\n",
        "    \n",
        "  # function call\n",
        "  main()\n",
        "\n",
        "\n",
        "\n",
        "\n"
      ]
    }
  ]
}