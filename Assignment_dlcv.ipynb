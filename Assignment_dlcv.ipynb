{
  "nbformat": 4,
  "nbformat_minor": 0,
  "metadata": {
    "colab": {
      "provenance": [],
      "mount_file_id": "1VWdH5mGDCwoh8L-a3pWtYQ7S1PhpHdJH",
      "authorship_tag": "ABX9TyNBp1JSH85W8aN+tPycuLb0",
      "include_colab_link": true
    },
    "kernelspec": {
      "name": "python3",
      "display_name": "Python 3"
    },
    "language_info": {
      "name": "python"
    }
  },
  "cells": [
    {
      "cell_type": "markdown",
      "metadata": {
        "id": "view-in-github",
        "colab_type": "text"
      },
      "source": [
        "<a href=\"https://colab.research.google.com/github/atanu22-iitk/DLCV/blob/main/Assignment_dlcv.ipynb\" target=\"_parent\"><img src=\"https://colab.research.google.com/assets/colab-badge.svg\" alt=\"Open In Colab\"/></a>"
      ]
    },
    {
      "cell_type": "code",
      "execution_count": 78,
      "metadata": {
        "id": "HFhFgGNI5MKS",
        "colab": {
          "base_uri": "https://localhost:8080/",
          "height": 960
        },
        "outputId": "a8385782-c9b8-4ea8-bf6b-0a9768986da1"
      },
      "outputs": [
        {
          "output_type": "stream",
          "name": "stdout",
          "text": [
            "Showing Data:\n",
            "File contain 0  is: b'batch_label'\n",
            "File contain 1  is: b'labels'\n",
            "File contain 2  is: b'data'\n",
            "File contain 3  is: b'filenames'\n",
            "255\n",
            "Original Image:\n"
          ]
        },
        {
          "output_type": "display_data",
          "data": {
            "text/plain": [
              "<Figure size 432x288 with 1 Axes>"
            ],
            "image/png": "[encoded data removed]"
          },
          "metadata": {
            "needs_background": "light"
          }
        },
        {
          "output_type": "stream",
          "name": "stdout",
          "text": [
            "Enhanced Image:\n"
          ]
        },
        {
          "output_type": "display_data",
          "data": {
            "text/plain": [
              "<Figure size 432x288 with 1 Axes>"
            ],
            "image/png": "[encoded data removed]"
          },
          "metadata": {
            "needs_background": "light"
          }
        },
        {
          "output_type": "stream",
          "name": "stdout",
          "text": [
            "255\n",
            "Posterized Image:\n"
          ]
        },
        {
          "output_type": "display_data",
          "data": {
            "text/plain": [
              "<Figure size 432x288 with 1 Axes>"
            ],
            "image/png": "[encoded data removed]"
          },
          "metadata": {
            "needs_background": "light"
          }
        },
        {
          "output_type": "stream",
          "name": "stdout",
          "text": [
            "250\n"
          ]
        }
      ],
      "source": [
        "import numpy as np\n",
        "import matplotlib.pyplot as plt\n",
        "\n",
        "\n",
        "\n",
        "def read_data(file):\n",
        "  import pickle\n",
        "  data=open(file, 'rb')\n",
        "  dict = pickle.load(data, encoding='bytes')\n",
        "  return dict\n",
        "\n",
        "def image_array(image_data):\n",
        "    global R_ch,G_ch,B_ch\n",
        "    R_ch=np.array([image_data[b'data'][2,:32]])\n",
        "    G_ch=np.array([image_data[b'data'][2,1024:1056]])\n",
        "    B_ch=np.array([image_data[b'data'][2,2048:2080]])\n",
        "\n",
        "    for i in range(32,1024,32):\n",
        "        data_R=np.array(image_data[b'data'][2,i:i+32])\n",
        "        R_ch=np.append(R_ch, [data_R], axis=0)\n",
        "        i+=32\n",
        "\n",
        "    for i in range(1056,2048,32):\n",
        "        data_G=np.array(image_data[b'data'][2,i:i+32])\n",
        "        G_ch=np.append(G_ch, [data_G], axis=0)\n",
        "        i+=32\n",
        "\n",
        "    for i in range(2080,3072,32):\n",
        "        data_B=np.array(image_data[b'data'][2,i:i+32])\n",
        "        B_ch=np.append(B_ch, [data_B], axis=0)\n",
        "        i+=32\n",
        "\n",
        "    # print('Red:',R_ch)\n",
        "    # print('Green:',G_ch)\n",
        "    # print('Blue:',B_ch)\n",
        "    # print(type(R_ch))\n",
        "    \n",
        "    # print(R_ch.shape)\n",
        "    # print(G_ch.shape)\n",
        "    # print(B_ch.shape)\n",
        "    \n",
        "    \n",
        "    image=np.dstack((R_ch,G_ch,B_ch))\n",
        "        \n",
        "\n",
        "    # print(image)\n",
        "    print(image[1,1][2])\n",
        "    # print(image.shape)\n",
        "    print('Original Image:')\n",
        "    plt.imshow(image)\n",
        "    plt.show()\n",
        "\n",
        "    # plt.imshow(R_ch)\n",
        "    # plt.show()\n",
        "    # plt.imshow(G_ch)\n",
        "    # plt.show()\n",
        "    # plt.imshow(B_ch)\n",
        "    # plt.show()\n",
        "\n",
        "    return image\n",
        "def img_poster (image):\n",
        "  #range=r,divider=d\n",
        "  sel_min=5\n",
        "  sel_max=250\n",
        "  r = sel_max - sel_min\n",
        "  d = 255/r\n",
        "  for i in range(0,32,1):\n",
        "    for j in range(0,32,1):\n",
        "      image[i,j][0]=(image[i,j][0]/d) + sel_min\n",
        "      image[i,j][1]=(image[i,j][1]/d) + sel_min\n",
        "      image[i,j][2]=(image[i,j][2]/d) + sel_min\n",
        "  return image\n",
        "def img_enhance(image):\n",
        "  for i in range(0,32,1):\n",
        "    for j in range(0,32,1):\n",
        "      image[i,j][0]=((image[i,j][0]-R_min_max[0])/(R_min_max[1]-R_min_max[0]))*255\n",
        "      image[i,j][1]=((image[i,j][1]-G_min_max[0])/(G_min_max[1]-G_min_max[0]))*255\n",
        "      image[i,j][2]=((image[i,j][2]-B_min_max[0])/(B_min_max[1]-B_min_max[0]))*255\n",
        "      # image[i,j][0]=1.1*image[i,j][0]\n",
        "      # image[i,j][1]=1.1*image[i,j][1]\n",
        "      # image[i,j][2]=1.1*image[i,j][2]\n",
        "  return image\n",
        "def min_max(arr):\n",
        "  \n",
        "  min=np.min(arr)\n",
        "  max=np.max(arr)\n",
        "  return min, max\n",
        "\n",
        "def main():\n",
        "    file='/content/drive/MyDrive/Colab Notebooks/cifar-10-batches-py/data_batch_1'\n",
        "    image_data=read_data(file)\n",
        "    print('Showing Data:')\n",
        "    cnt=0\n",
        "    for item in image_data:\n",
        "      print('File contain',cnt,' is:', item)\n",
        "      cnt +=1\n",
        "    new_image = np.array(image_array(image_data))\n",
        "    \n",
        "    # print(new_image.shape)\n",
        "    # print(new_image)\n",
        "    global R_min_max, G_min_max, B_min_max\n",
        "    R_min_max=min_max(R_ch)\n",
        "    G_min_max=min_max(G_ch)\n",
        "    B_min_max=min_max(B_ch)\n",
        "    # print('Rmin:',R_min_max[0])\n",
        "    # print('Rmax:',R_min_max[1])\n",
        "    # print('Gmin:',G_min_max[0])\n",
        "    # print('Gmax:',G_min_max[1])\n",
        "    # print('Bmin:',B_min_max[0])\n",
        "    # print('Bmax:',B_min_max[1])\n",
        "\n",
        "    Enhanced_image=img_enhance(new_image)\n",
        "    print('Enhanced Image:')\n",
        "    plt.imshow(Enhanced_image)\n",
        "    plt.show()\n",
        "    print(Enhanced_image[1,1][2])\n",
        "\n",
        "    Posterize_image=img_poster(new_image)\n",
        "    print('Posterized Image:')\n",
        "    plt.imshow(Posterize_image)\n",
        "    plt.show()\n",
        "    print(Posterize_image[1,1][2])\n",
        "# driver code\n",
        "if __name__ == \"__main__\":\n",
        "    \n",
        "  # function call\n",
        "  main()\n",
        "\n",
        "\n",
        "\n",
        "\n"
      ]
    }
  ]
}